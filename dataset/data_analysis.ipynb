{
 "cells": [
  {
   "cell_type": "code",
   "execution_count": 1,
   "metadata": {},
   "outputs": [],
   "source": [
    "from tqdm import tqdm\n",
    "import ast\n",
    "from sklearn.feature_extraction.text import TfidfVectorizer\n",
    "from scipy.sparse import csr_matrix, coo_matrix\n",
    "import pickle as pkl\n",
    "import csv\n",
    "import pandas as pd\n",
    "import numpy as np\n",
    "import os\n",
    "import random\n",
    "import scipy.io as sio\n",
    "import cufflinks as cf"
   ]
  },
  {
   "cell_type": "code",
   "execution_count": 2,
   "metadata": {},
   "outputs": [
    {
     "data": {
      "text/plain": [
       "{0: 'belong(s) to the category of',\n",
       " 1: 'is a category subset of',\n",
       " 2: 'may cause',\n",
       " 3: 'is a subtype of',\n",
       " 4: 'is a risk factor for',\n",
       " 5: 'is associated with',\n",
       " 6: 'may contraindicate',\n",
       " 7: 'interacts with',\n",
       " 8: 'belongs to the drug family of',\n",
       " 9: 'belongs to drug super-family',\n",
       " 10: 'is a vector for',\n",
       " 11: 'may be allelic with',\n",
       " 12: 'see also',\n",
       " 13: 'is an ingredient of'}"
      ]
     },
     "execution_count": 2,
     "metadata": {},
     "output_type": "execute_result"
    }
   ],
   "source": [
    "network = pkl.load(open('{}.pkl'.format(\"ddb\"), \"rb\"))\n",
    "network.keys()\n",
    "network['edge_type2index']"
   ]
  },
  {
   "cell_type": "code",
   "execution_count": 3,
   "metadata": {},
   "outputs": [
    {
     "name": "stdout",
     "output_type": "stream",
     "text": [
      "dict_keys(['train_edges', 'val_edges', 'test_edges'])\n"
     ]
    },
    {
     "data": {
      "text/plain": [
       "44561"
      ]
     },
     "execution_count": 3,
     "metadata": {},
     "output_type": "execute_result"
    }
   ],
   "source": [
    "print(network['splits'].keys())\n",
    "edges = network['splits']['train_edges'] + network['splits']['val_edges'] + network['splits']['test_edges']\n",
    "len(edges) #[(0, 1, 0)]"
   ]
  },
  {
   "cell_type": "code",
   "execution_count": 4,
   "metadata": {},
   "outputs": [
    {
     "data": {
      "text/plain": [
       "(44561, 3)"
      ]
     },
     "execution_count": 4,
     "metadata": {},
     "output_type": "execute_result"
    }
   ],
   "source": [
    "edges = np.array(edges)\n",
    "edges.shape"
   ]
  },
  {
   "cell_type": "code",
   "execution_count": 5,
   "metadata": {},
   "outputs": [
    {
     "data": {
      "text/plain": [
       "(array([    0,     0,     1, ..., 44550, 44558, 44560]),\n",
       " array([0, 2, 2, ..., 2, 2, 2]))"
      ]
     },
     "execution_count": 5,
     "metadata": {},
     "output_type": "execute_result"
    }
   ],
   "source": [
    "np.where(edges==0)"
   ]
  },
  {
   "cell_type": "code",
   "execution_count": 6,
   "metadata": {},
   "outputs": [
    {
     "data": {
      "text/plain": [
       "array([[   0,    1,    0],\n",
       "       [   2,    1,    0],\n",
       "       [   4,    1,    0],\n",
       "       ...,\n",
       "       [7324, 6810,    0],\n",
       "       [2458,  633,   12],\n",
       "       [2260, 6810,    0]])"
      ]
     },
     "execution_count": 6,
     "metadata": {},
     "output_type": "execute_result"
    }
   ],
   "source": [
    "edges"
   ]
  },
  {
   "cell_type": "code",
   "execution_count": 7,
   "metadata": {},
   "outputs": [
    {
     "data": {
      "text/plain": [
       "array([   1,    5, 9215])"
      ]
     },
     "execution_count": 7,
     "metadata": {},
     "output_type": "execute_result"
    }
   ],
   "source": [
    "np.count_nonzero(edges==0, axis=0)"
   ]
  },
  {
   "cell_type": "code",
   "execution_count": 8,
   "metadata": {},
   "outputs": [
    {
     "data": {
      "text/plain": [
       "{0: 9215,\n",
       " 1: 75,\n",
       " 2: 27429,\n",
       " 3: 1023,\n",
       " 4: 1143,\n",
       " 5: 358,\n",
       " 6: 551,\n",
       " 7: 876,\n",
       " 8: 2879,\n",
       " 9: 132,\n",
       " 10: 100,\n",
       " 11: 329,\n",
       " 12: 445,\n",
       " 13: 6}"
      ]
     },
     "execution_count": 8,
     "metadata": {},
     "output_type": "execute_result"
    }
   ],
   "source": [
    "edge_type_distribution = dict.fromkeys(network['edge_type2index'], 0)\n",
    "for k in edge_type_distribution.keys():\n",
    "    edge_type_distribution[k] += np.count_nonzero(edges==k, axis=0)[-1]\n",
    "edge_type_distribution"
   ]
  },
  {
   "cell_type": "code",
   "execution_count": 9,
   "metadata": {},
   "outputs": [
    {
     "data": {
      "text/plain": [
       "44561"
      ]
     },
     "execution_count": 9,
     "metadata": {},
     "output_type": "execute_result"
    }
   ],
   "source": [
    "sum(edge_type_distribution.values())"
   ]
  },
  {
   "cell_type": "code",
   "execution_count": 15,
   "metadata": {},
   "outputs": [
    {
     "data": {
      "text/html": [
       "<div>\n",
       "<style scoped>\n",
       "    .dataframe tbody tr th:only-of-type {\n",
       "        vertical-align: middle;\n",
       "    }\n",
       "\n",
       "    .dataframe tbody tr th {\n",
       "        vertical-align: top;\n",
       "    }\n",
       "\n",
       "    .dataframe thead th {\n",
       "        text-align: right;\n",
       "    }\n",
       "</style>\n",
       "<table border=\"1\" class=\"dataframe\">\n",
       "  <thead>\n",
       "    <tr style=\"text-align: right;\">\n",
       "      <th></th>\n",
       "      <th>target</th>\n",
       "      <th>source</th>\n",
       "      <th>relation</th>\n",
       "    </tr>\n",
       "  </thead>\n",
       "  <tbody>\n",
       "    <tr>\n",
       "      <th>0</th>\n",
       "      <td>0</td>\n",
       "      <td>1</td>\n",
       "      <td>0</td>\n",
       "    </tr>\n",
       "    <tr>\n",
       "      <th>1</th>\n",
       "      <td>2</td>\n",
       "      <td>1</td>\n",
       "      <td>0</td>\n",
       "    </tr>\n",
       "    <tr>\n",
       "      <th>2</th>\n",
       "      <td>4</td>\n",
       "      <td>1</td>\n",
       "      <td>0</td>\n",
       "    </tr>\n",
       "    <tr>\n",
       "      <th>3</th>\n",
       "      <td>5</td>\n",
       "      <td>1</td>\n",
       "      <td>0</td>\n",
       "    </tr>\n",
       "    <tr>\n",
       "      <th>4</th>\n",
       "      <td>6</td>\n",
       "      <td>1</td>\n",
       "      <td>0</td>\n",
       "    </tr>\n",
       "    <tr>\n",
       "      <th>...</th>\n",
       "      <td>...</td>\n",
       "      <td>...</td>\n",
       "      <td>...</td>\n",
       "    </tr>\n",
       "    <tr>\n",
       "      <th>44556</th>\n",
       "      <td>56</td>\n",
       "      <td>3204</td>\n",
       "      <td>2</td>\n",
       "    </tr>\n",
       "    <tr>\n",
       "      <th>44557</th>\n",
       "      <td>59</td>\n",
       "      <td>5555</td>\n",
       "      <td>2</td>\n",
       "    </tr>\n",
       "    <tr>\n",
       "      <th>44558</th>\n",
       "      <td>7324</td>\n",
       "      <td>6810</td>\n",
       "      <td>0</td>\n",
       "    </tr>\n",
       "    <tr>\n",
       "      <th>44559</th>\n",
       "      <td>2458</td>\n",
       "      <td>633</td>\n",
       "      <td>12</td>\n",
       "    </tr>\n",
       "    <tr>\n",
       "      <th>44560</th>\n",
       "      <td>2260</td>\n",
       "      <td>6810</td>\n",
       "      <td>0</td>\n",
       "    </tr>\n",
       "  </tbody>\n",
       "</table>\n",
       "<p>44561 rows × 3 columns</p>\n",
       "</div>"
      ],
      "text/plain": [
       "       target  source  relation\n",
       "0           0       1         0\n",
       "1           2       1         0\n",
       "2           4       1         0\n",
       "3           5       1         0\n",
       "4           6       1         0\n",
       "...       ...     ...       ...\n",
       "44556      56    3204         2\n",
       "44557      59    5555         2\n",
       "44558    7324    6810         0\n",
       "44559    2458     633        12\n",
       "44560    2260    6810         0\n",
       "\n",
       "[44561 rows x 3 columns]"
      ]
     },
     "execution_count": 15,
     "metadata": {},
     "output_type": "execute_result"
    }
   ],
   "source": [
    "df  = pd.DataFrame(edges, columns=['target', 'source', 'relation'])\n",
    "df"
   ]
  },
  {
   "cell_type": "code",
   "execution_count": 16,
   "metadata": {},
   "outputs": [],
   "source": [
    "import matplotlib.pyplot as plt\n",
    "import networkx as nx\n",
    "\n",
    "def plot_degree_dist(G):\n",
    "    degrees = [G.degree(n) for n in G.nodes()]\n",
    "    plt.hist(degrees)\n",
    "    plt.show()"
   ]
  },
  {
   "cell_type": "code",
   "execution_count": 17,
   "metadata": {},
   "outputs": [
    {
     "data": {
      "image/png": "[encoded data removed]",
      "text/plain": [
       "<Figure size 432x288 with 1 Axes>"
      ]
     },
     "metadata": {
      "needs_background": "light"
     },
     "output_type": "display_data"
    }
   ],
   "source": [
    "G = nx.from_pandas_edgelist(df, 'target', 'source', ['relation'])\n",
    "plot_degree_dist(G)"
   ]
  },
  {
   "cell_type": "code",
   "execution_count": 27,
   "metadata": {},
   "outputs": [
    {
     "name": "stdout",
     "output_type": "stream",
     "text": [
      "[0, 746, 1763, 1323, 1001, 715, 577, 493, 357, 328, 254, 172, 136, 123, 112, 100, 78, 70, 48, 49, 48, 39, 40, 40, 36, 34, 18, 18, 24, 18, 24, 7, 14, 13, 10, 12, 10, 14, 9, 9, 4, 8, 11, 7, 7, 6, 7, 4, 7, 3, 9, 5, 11, 7, 8, 3, 4, 1, 4, 2, 7, 3, 1, 5, 2, 6, 2, 9, 5, 4, 0, 1, 1, 2, 2, 3, 2, 1, 1, 1, 1, 1, 3, 1, 0, 5, 0, 0, 0, 1, 3, 4, 0, 1, 0, 1, 0, 2, 4, 3, 5, 1, 0, 0, 2, 1, 0, 0, 0, 0, 1, 1, 0, 1, 1, 1, 1, 0, 0, 0, 2, 1, 0, 0, 1, 1, 0, 1, 1, 0, 1, 0, 0, 0, 0, 0, 1, 0, 1, 1, 0, 0, 1, 1, 0, 0, 0, 0, 0, 0, 0, 1, 0, 0, 0, 0, 0, 1, 0, 1, 0, 0, 0, 0, 0, 0, 1, 0, 0, 1, 0, 0, 0, 0, 0, 0, 0, 0, 0, 0, 1, 0, 0, 0, 0, 0, 1, 0, 0, 1, 0, 0, 0, 2, 0, 0, 0, 0, 0, 0, 0, 0, 0, 0, 0, 0, 0, 1, 0, 0, 0, 1, 0, 0, 0, 0, 0, 0, 0, 0, 1, 0, 0, 0, 0, 0, 0, 1, 1, 0, 0, 0, 0, 0, 0, 0, 0, 0, 0, 0, 0, 0, 0, 0, 0, 0, 0, 0, 0, 0, 1, 0, 0, 0, 0, 0, 0, 1, 1, 0, 0, 0, 0, 0, 0, 0, 0, 0, 1, 0, 0, 0, 0, 0, 0, 0, 0, 0, 0, 0, 0, 0, 0, 0, 0, 0, 0, 0, 0, 0, 0, 0, 0, 0, 0, 0, 0, 0, 0, 0, 0, 1, 0, 0, 0, 0, 0, 1, 0, 0, 0, 0, 0, 0, 0, 0, 0, 0, 0, 0, 0, 0, 0, 0, 0, 0, 0, 0, 0, 0, 0, 0, 0, 0, 0, 0, 0, 0, 0, 0, 0, 0, 0, 0, 0, 0, 0, 0, 0, 0, 0, 0, 0, 0, 0, 0, 0, 0, 0, 0, 0, 0, 0, 0, 0, 0, 0, 0, 0, 0, 0, 0, 0, 0, 0, 0, 0, 0, 0, 0, 0, 0, 1, 0, 0, 0, 0, 0, 0, 0, 0, 0, 0, 0, 0, 0, 0, 0, 0, 0, 0, 0, 0, 0, 0, 0, 0, 0, 0, 0, 0, 0, 0, 0, 0, 0, 0, 0, 0, 0, 0, 0, 0, 0, 0, 0, 0, 0, 0, 0, 0, 0, 0, 0, 0, 0, 0, 0, 0, 0, 0, 0, 0, 0, 0, 0, 0, 0, 0, 0, 0, 0, 0, 0, 0, 0, 0, 0, 0, 0, 0, 0, 0, 0, 1, 0, 0, 0, 0, 0, 0, 0, 0, 0, 0, 0, 1, 0, 0, 0, 0, 0, 0, 0, 0, 0, 0, 0, 0, 0, 0, 0, 0, 0, 0, 0, 0, 0, 0, 0, 0, 0, 0, 0, 0, 0, 0, 0, 0, 0, 0, 0, 0, 0, 0, 0, 0, 0, 0, 0, 0, 0, 0, 0, 1, 0, 0, 0, 0, 0, 0, 0, 0, 0, 0, 0, 0, 0, 0, 0, 0, 0, 0, 0, 0, 0, 0, 0, 0, 0, 0, 0, 0, 0, 0, 0, 0, 0, 0, 0, 0, 0, 0, 0, 0, 0, 0, 0, 0, 0, 0, 0, 0, 0, 0, 0, 0, 0, 0, 0, 0, 0, 0, 0, 0, 0, 0, 0, 0, 0, 0, 0, 0, 0, 0, 0, 0, 0, 0, 0, 0, 0, 0, 0, 0, 0, 0, 0, 1, 0, 0, 0, 0, 0, 0, 0, 0, 0, 0, 0, 0, 0, 0, 0, 0, 0, 0, 0, 0, 0, 0, 0, 0, 0, 0, 0, 0, 0, 0, 0, 0, 0, 0, 0, 0, 0, 0, 0, 0, 0, 0, 0, 0, 0, 0, 0, 0, 0, 0, 0, 0, 0, 0, 0, 0, 0, 0, 0, 0, 0, 0, 0, 0, 0, 0, 0, 0, 0, 0, 0, 0, 0, 0, 0, 0, 0, 0, 0, 0, 0, 0, 0, 0, 0, 0, 0, 0, 0, 0, 0, 0, 0, 0, 0, 0, 0, 0, 1, 0, 0, 0, 0, 0, 0, 0, 0, 0, 0, 0, 0, 0, 0, 0, 0, 0, 0, 0, 0, 0, 0, 0, 0, 0, 0, 0, 0, 0, 0, 0, 0, 0, 0, 0, 0, 0, 0, 0, 0, 0, 0, 0, 0, 0, 0, 0, 0, 0, 0, 0, 0, 0, 0, 0, 0, 0, 0, 0, 0, 0, 0, 0, 0, 0, 0, 0, 0, 0, 0, 0, 0, 0, 0, 0, 0, 0, 0, 0, 0, 0, 0, 0, 0, 0, 0, 0, 0, 0, 0, 0, 0, 0, 0, 0, 0, 0, 0, 0, 0, 0, 0, 0, 0, 0, 0, 0, 0, 0, 0, 0, 0, 0, 0, 0, 0, 0, 0, 0, 0, 0, 0, 0, 0, 0, 0, 0, 0, 0, 0, 0, 0, 0, 0, 0, 0, 0, 0, 0, 0, 0, 0, 0, 0, 0, 0, 0, 0, 0, 0, 0, 0, 0, 0, 0, 0, 0, 0, 0, 0, 0, 0, 0, 0, 0, 0, 0, 0, 0, 0, 0, 0, 0, 0, 0, 0, 0, 0, 0, 0, 0, 0, 0, 0, 0, 0, 0, 0, 0, 0, 0, 0, 0, 0, 0, 0, 0, 0, 0, 0, 0, 0, 0, 0, 0, 0, 0, 0, 0, 0, 0, 0, 0, 0, 0, 0, 0, 0, 0, 0, 0, 0, 0, 0, 0, 0, 0, 0, 0, 0, 0, 0, 0, 0, 0, 0, 0, 0, 0, 0, 0, 0, 0, 0, 0, 0, 0, 0, 0, 0, 0, 0, 0, 0, 0, 0, 0, 0, 0, 0, 0, 0, 0, 0, 0, 0, 0, 0, 0, 0, 0, 0, 0, 0, 0, 0, 0, 0, 0, 0, 0, 0, 0, 0, 0, 0, 0, 0, 0, 0, 0, 0, 0, 0, 0, 0, 0, 0, 0, 0, 0, 0, 0, 0, 0, 0, 0, 0, 0, 0, 0, 0, 0, 0, 0, 0, 0, 0, 0, 0, 0, 0, 0, 0, 0, 0, 0, 0, 0, 0, 0, 0, 0, 0, 0, 0, 0, 0, 0, 0, 0, 0, 0, 0, 0, 0, 0, 0, 0, 0, 0, 0, 0, 0, 0, 0, 0, 0, 0, 0, 0, 0, 0, 0, 0, 0, 0, 0, 0, 0, 0, 0, 0, 0, 0, 0, 0, 0, 0, 0, 0, 0, 0, 0, 0, 0, 0, 0, 0, 0, 0, 0, 0, 0, 0, 0, 0, 0, 0, 0, 0, 0, 0, 0, 0, 0, 0, 0, 0, 0, 0, 0, 0, 0, 0, 0, 0, 0, 0, 0, 0, 0, 0, 0, 0, 0, 0, 0, 0, 0, 0, 0, 0, 0, 0, 0, 0, 0, 0, 0, 0, 0, 0, 0, 0, 0, 0, 0, 0, 0, 0, 0, 0, 0, 0, 0, 0, 0, 0, 0, 0, 0, 0, 0, 0, 0, 0, 0, 0, 0, 0, 0, 0, 0, 0, 0, 0, 0, 0, 0, 0, 0, 0, 0, 0, 0, 0, 0, 0, 0, 0, 0, 0, 0, 0, 0, 0, 0, 0, 0, 0, 0, 0, 0, 0, 0, 0, 0, 0, 0, 0, 0, 0, 0, 0, 0, 0, 0, 0, 0, 0, 0, 0, 0, 0, 0, 0, 0, 0, 0, 0, 0, 0, 0, 0, 0, 0, 0, 0, 0, 0, 0, 0, 0, 0, 0, 0, 0, 0, 0, 0, 0, 0, 0, 0, 0, 0, 0, 0, 0, 0, 0, 0, 0, 0, 0, 0, 0, 0, 0, 0, 0, 0, 0, 0, 0, 0, 0, 0, 0, 0, 0, 0, 0, 0, 0, 0, 0, 0, 0, 0, 0, 0, 0, 0, 0, 0, 0, 0, 0, 0, 0, 0, 0, 0, 0, 0, 0, 0, 0, 0, 0, 0, 0, 0, 0, 0, 0, 0, 0, 0, 0, 0, 0, 0, 0, 0, 0, 0, 0, 0, 0, 0, 0, 0, 0, 0, 0, 0, 0, 0, 0, 0, 0, 0, 0, 0, 0, 0, 0, 0, 0, 0, 0, 0, 0, 0, 0, 0, 0, 0, 0, 0, 0, 0, 0, 0, 0, 0, 0, 0, 0, 0, 0, 0, 0, 0, 0, 0, 0, 0, 0, 0, 0, 0, 0, 0, 0, 0, 0, 0, 0, 0, 0, 0, 0, 0, 0, 0, 0, 0, 0, 0, 0, 0, 0, 0, 0, 0, 0, 0, 0, 0, 0, 0, 0, 0, 0, 0, 0, 0, 0, 0, 0, 0, 0, 0, 0, 0, 0, 0, 0, 0, 0, 0, 0, 0, 0, 0, 0, 0, 0, 0, 0, 0, 0, 0, 0, 0, 0, 0, 0, 0, 0, 0, 0, 0, 0, 0, 0, 0, 0, 0, 0, 0, 0, 0, 0, 0, 0, 0, 0, 0, 0, 0, 0, 0, 0, 0, 0, 0, 0, 0, 0, 0, 0, 0, 0, 0, 0, 0, 0, 0, 0, 0, 0, 0, 0, 0, 0, 0, 0, 0, 0, 0, 0, 0, 0, 0, 0, 0, 0, 0, 0, 0, 0, 0, 0, 0, 0, 0, 0, 0, 0, 0, 0, 0, 0, 0, 0, 0, 0, 0, 0, 0, 0, 0, 0, 0, 0, 0, 0, 0, 0, 0, 0, 0, 0, 0, 0, 0, 0, 0, 0, 0, 0, 0, 0, 0, 0, 0, 0, 0, 0, 0, 0, 0, 0, 0, 0, 0, 0, 0, 0, 0, 0, 0, 0, 0, 0, 0, 0, 0, 0, 0, 0, 0, 0, 0, 0, 0, 0, 0, 0, 0, 0, 0, 0, 0, 0, 0, 0, 0, 0, 0, 0, 0, 0, 0, 0, 0, 0, 0, 0, 0, 0, 0, 0, 0, 0, 0, 0, 0, 0, 0, 0, 0, 0, 0, 0, 0, 0, 0, 0, 0, 0, 0, 0, 0, 0, 0, 0, 0, 0, 0, 0, 0, 0, 0, 0, 0, 0, 0, 0, 0, 0, 0, 0, 0, 0, 0, 0, 0, 0, 0, 0, 0, 0, 0, 0, 0, 0, 0, 0, 0, 0, 0, 0, 0, 0, 0, 0, 0, 0, 0, 0, 0, 0, 0, 0, 0, 0, 0, 0, 0, 0, 0, 0, 0, 0, 0, 0, 0, 0, 0, 0, 0, 0, 0, 0, 0, 0, 0, 0, 0, 0, 0, 0, 0, 0, 0, 0, 0, 0, 0, 0, 0, 0, 0, 0, 0, 0, 0, 0, 0, 0, 0, 0, 0, 0, 0, 0, 0, 0, 0, 0, 0, 0, 0, 0, 0, 0, 0, 0, 0, 0, 0, 0, 0, 0, 0, 0, 0, 0, 0, 0, 0, 0, 0, 0, 0, 0, 0, 0, 0, 0, 0, 0, 0, 0, 0, 0, 0, 0, 0, 0, 0, 0, 0, 0, 0, 0, 0, 0, 0, 0, 0, 0, 0, 0, 0, 0, 0, 0, 0, 0, 0, 0, 0, 0, 0, 0, 0, 0, 0, 0, 0, 0, 0, 0, 0, 0, 0, 0, 0, 0, 0, 0, 0, 0, 0, 0, 0, 0, 0, 0, 0, 0, 0, 0, 0, 0, 0, 0, 0, 0, 0, 0, 0, 0, 0, 0, 0, 0, 0, 0, 0, 0, 0, 0, 0, 0, 0, 0, 0, 0, 0, 0, 0, 0, 0, 0, 0, 0, 0, 0, 0, 0, 0, 0, 0, 0, 0, 0, 0, 0, 0, 0, 0, 0, 0, 0, 0, 0, 0, 0, 0, 0, 0, 0, 0, 0, 0, 0, 0, 0, 0, 0, 0, 0, 0, 0, 0, 0, 0, 0, 0, 0, 0, 0, 0, 0, 0, 0, 0, 0, 0, 0, 0, 0, 0, 0, 0, 0, 0, 0, 0, 0, 0, 0, 0, 0, 0, 0, 0, 0, 0, 0, 0, 0, 0, 0, 0, 0, 0, 0, 0, 0, 0, 0, 0, 0, 0, 0, 0, 0, 0, 0, 0, 0, 0, 0, 0, 0, 0, 0, 0, 0, 0, 0, 0, 0, 0, 0, 0, 0, 0, 0, 0, 0, 0, 0, 0, 0, 0, 0, 0, 0, 0, 0, 0, 0, 0, 0, 0, 0, 0, 0, 0, 0, 0, 0, 0, 0, 0, 0, 0, 0, 0, 0, 0, 0, 0, 0, 0, 0, 0, 0, 0, 0, 0, 0, 0, 0, 0, 0, 0, 0, 0, 0, 0, 0, 0, 0, 0, 0, 0, 0, 0, 0, 0, 0, 0, 0, 0, 0, 0, 0, 0, 0, 0, 0, 0, 0, 0, 0, 0, 0, 0, 0, 0, 0, 0, 0, 0, 0, 0, 0, 0, 0, 0, 0, 0, 0, 0, 0, 0, 0, 0, 0, 0, 0, 0, 0, 0, 0, 0, 0, 0, 0, 0, 0, 0, 0, 0, 0, 0, 0, 0, 0, 0, 0, 0, 0, 0, 0, 0, 0, 0, 0, 0, 0, 0, 0, 0, 0, 0, 0, 0, 0, 0, 0, 0, 0, 0, 0, 0, 0, 0, 0, 0, 0, 0, 0, 0, 0, 0, 0, 0, 0, 0, 0, 0, 0, 0, 0, 0, 0, 0, 0, 0, 0, 0, 0, 0, 0, 0, 0, 0, 0, 0, 0, 0, 0, 0, 0, 0, 0, 0, 0, 0, 0, 0, 0, 0, 0, 0, 0, 0, 0, 0, 0, 0, 0, 0, 0, 0, 0, 0, 0, 0, 0, 0, 0, 0, 0, 0, 0, 0, 0, 0, 0, 0, 0, 0, 0, 0, 0, 0, 0, 0, 0, 0, 0, 0, 0, 0, 0, 0, 0, 0, 0, 0, 0, 0, 0, 0, 0, 0, 0, 0, 0, 0, 0, 0, 0, 0, 0, 0, 0, 0, 0, 0, 0, 0, 0, 0, 0, 0, 0, 0, 0, 0, 0, 0, 0, 0, 0, 0, 0, 0, 0, 0, 0, 0, 0, 0, 0, 0, 0, 0, 0, 0, 0, 0, 0, 0, 0, 0, 0, 0, 0, 0, 0, 0, 0, 0, 0, 0, 0, 0, 0, 0, 0, 0, 0, 0, 0, 0, 0, 0, 0, 0, 0, 0, 0, 0, 0, 0, 0, 0, 0, 0, 0, 0, 0, 0, 0, 0, 0, 0, 0, 0, 0, 0, 0, 0, 0, 0, 0, 0, 0, 0, 0, 0, 0, 0, 0, 0, 0, 0, 0, 0, 0, 0, 0, 0, 0, 0, 0, 0, 0, 0, 0, 0, 0, 0, 0, 0, 0, 0, 0, 0, 0, 0, 0, 0, 0, 0, 0, 0, 0, 0, 0, 0, 0, 0, 0, 0, 0, 0, 0, 0, 0, 0, 0, 0, 0, 0, 0, 0, 0, 0, 0, 0, 0, 0, 0, 0, 0, 0, 0, 0, 0, 0, 0, 0, 0, 0, 0, 0, 0, 0, 0, 0, 0, 0, 0, 0, 0, 0, 0, 0, 0, 0, 0, 0, 0, 0, 0, 0, 0, 0, 0, 0, 0, 0, 0, 0, 0, 0, 0, 0, 0, 0, 0, 0, 0, 0, 0, 0, 0, 0, 0, 0, 0, 0, 0, 0, 0, 0, 0, 0, 0, 0, 0, 0, 0, 0, 0, 0, 0, 0, 0, 0, 0, 0, 0, 0, 0, 0, 0, 0, 0, 0, 0, 0, 0, 0, 0, 0, 0, 0, 0, 0, 0, 0, 0, 0, 0, 0, 0, 0, 0, 0, 0, 0, 0, 0, 0, 0, 0, 0, 0, 0, 0, 0, 0, 0, 0, 0, 0, 0, 0, 0, 0, 0, 0, 0, 0, 0, 0, 0, 0, 0, 0, 0, 0, 0, 0, 0, 0, 0, 0, 0, 0, 0, 0, 0, 0, 0, 0, 0, 0, 0, 0, 0, 0, 0, 0, 0, 0, 0, 0, 0, 0, 0, 0, 0, 0, 0, 0, 0, 0, 0, 0, 0, 0, 0, 0, 0, 0, 0, 0, 0, 0, 0, 0, 0, 0, 0, 0, 0, 0, 0, 0, 0, 0, 0, 0, 0, 0, 0, 0, 0, 0, 0, 0, 0, 0, 0, 0, 0, 0, 0, 0, 0, 0, 0, 0, 0, 0, 0, 0, 0, 0, 0, 0, 0, 0, 0, 0, 0, 0, 0, 0, 0, 0, 0, 0, 0, 0, 0, 0, 0, 0, 0, 0, 0, 0, 0, 0, 0, 0, 0, 0, 0, 0, 0, 0, 0, 0, 0, 0, 0, 0, 0, 0, 0, 0, 0, 0, 0, 0, 0, 0, 0, 0, 0, 0, 0, 0, 0, 0, 0, 0, 0, 0, 0, 0, 0, 0, 0, 1]\n",
      "range(0, 2712)\n"
     ]
    },
    {
     "data": {
      "image/png": "[encoded data removed]",
      "text/plain": [
       "<Figure size 864x576 with 1 Axes>"
      ]
     },
     "metadata": {
      "needs_background": "light"
     },
     "output_type": "display_data"
    }
   ],
   "source": [
    "degree_freq = nx.degree_histogram(G)\n",
    "print(degree_freq)\n",
    "degrees = range(len(degree_freq))\n",
    "print(degrees)\n",
    "plt.figure(figsize=(12, 8)) \n",
    "plt.loglog(degrees, degree_freq,'go-') \n",
    "plt.xlabel('Degree')\n",
    "plt.ylabel('Frequency')\n",
    "plt.savefig(\"ddb_degree_distribution.png\")"
   ]
  },
  {
   "cell_type": "code",
   "execution_count": 22,
   "metadata": {},
   "outputs": [
    {
     "data": {
      "text/plain": [
       "9144"
      ]
     },
     "execution_count": 22,
     "metadata": {},
     "output_type": "execute_result"
    }
   ],
   "source": [
    "len(list(G.nodes()))"
   ]
  },
  {
   "cell_type": "code",
   "execution_count": 25,
   "metadata": {},
   "outputs": [
    {
     "name": "stdout",
     "output_type": "stream",
     "text": [
      "2712\n",
      "9144\n"
     ]
    }
   ],
   "source": [
    "print(len(degree_freq))\n",
    "print(sum(degree_freq))"
   ]
  },
  {
   "cell_type": "code",
   "execution_count": 24,
   "metadata": {},
   "outputs": [
    {
     "data": {
      "text/plain": [
       "0"
      ]
     },
     "execution_count": 24,
     "metadata": {},
     "output_type": "execute_result"
    }
   ],
   "source": [
    "len(list(nx.isolates(G)))"
   ]
  },
  {
   "cell_type": "code",
   "execution_count": 29,
   "metadata": {},
   "outputs": [],
   "source": [
    "import networkx as nx\n",
    "import scipy.sparse as sp\n",
    "import numpy as np\n",
    "from scipy.sparse.csgraph import connected_components, minimum_spanning_tree\n",
    "import warnings\n",
    "from matplotlib import pyplot as plt\n",
    "import igraph\n",
    "#import powerlaw\n",
    "from numba import jit"
   ]
  },
  {
   "cell_type": "code",
   "execution_count": 31,
   "metadata": {},
   "outputs": [
    {
     "data": {
      "text/plain": [
       "<9144x9144 sparse matrix of type '<class 'numpy.int64'>'\n",
       "\twith 81030 stored elements in Compressed Sparse Row format>"
      ]
     },
     "execution_count": 31,
     "metadata": {},
     "output_type": "execute_result"
    }
   ],
   "source": [
    "A_in = nx.to_scipy_sparse_matrix(G)\n",
    "A_in"
   ]
  },
  {
   "cell_type": "code",
   "execution_count": 34,
   "metadata": {},
   "outputs": [],
   "source": [
    "A = A_in.copy()\n",
    "statistics = {}"
   ]
  },
  {
   "cell_type": "code",
   "execution_count": 39,
   "metadata": {},
   "outputs": [],
   "source": [
    "def squares(g):\n",
    "    \"\"\"\n",
    "    Count the number of squares for each node\n",
    "    Parameters\n",
    "    ----------\n",
    "    g: igraph Graph object\n",
    "       The input graph.\n",
    "    Returns\n",
    "    -------\n",
    "    List with N entries (N is number of nodes) that give the number of squares a node is part of.\n",
    "    \"\"\"\n",
    "\n",
    "    cliques = g.cliques(min=4, max=4)\n",
    "    result = [0] * g.vcount()\n",
    "    for i, j, k, l in cliques:\n",
    "        result[i] += 1\n",
    "        result[j] += 1\n",
    "        result[k] += 1\n",
    "        result[l] += 1\n",
    "    return result\n",
    "\n",
    "def statistics_degrees(A_in):\n",
    "    \"\"\"\n",
    "    Compute min, max, mean degree\n",
    "    Parameters\n",
    "    ----------\n",
    "    A_in: sparse matrix or np.array\n",
    "          The input adjacency matrix.\n",
    "    Returns\n",
    "    -------\n",
    "    d_max. d_min, d_mean\n",
    "    \"\"\"\n",
    "\n",
    "    degrees = A_in.sum(axis=0)\n",
    "    return np.max(degrees), np.min(degrees), np.mean(degrees)\n",
    "\n",
    "def statistics_LCC(A_in):\n",
    "    \"\"\"\n",
    "    Compute the size of the largest connected component (LCC)\n",
    "    Parameters\n",
    "    ----------\n",
    "    A_in: sparse matrix or np.array\n",
    "          The input adjacency matrix.\n",
    "    Returns\n",
    "    -------\n",
    "    Size of LCC\n",
    "    \"\"\"\n",
    "\n",
    "    unique, counts = np.unique(connected_components(A_in)[1], return_counts=True)\n",
    "    LCC = np.where(connected_components(A_in)[1] == np.argmax(counts))[0]\n",
    "    return LCC\n",
    "\n",
    "def statistics_wedge_count(A_in):\n",
    "    \"\"\"\n",
    "    Compute the wedge count of the input graph\n",
    "    Parameters\n",
    "    ----------\n",
    "    A_in: sparse matrix or np.array\n",
    "          The input adjacency matrix.\n",
    "    Returns\n",
    "    -------\n",
    "    The wedge count.\n",
    "    \"\"\"\n",
    "\n",
    "    degrees = A_in.sum(axis=0)\n",
    "    return float(np.sum(np.array([0.5 * x * (x - 1) for x in degrees])))\n",
    "\n",
    "\n",
    "def statistics_claw_count(A_in):\n",
    "    \"\"\"\n",
    "    Compute the claw count of the input graph\n",
    "    Parameters\n",
    "    ----------\n",
    "    A_in: sparse matrix or np.array\n",
    "          The input adjacency matrix.\n",
    "    Returns\n",
    "    -------\n",
    "    Claw count\n",
    "    \"\"\"\n",
    "\n",
    "    degrees = A_in.sum(axis=0)\n",
    "    return float(np.sum(np.array([1 / 6. * x * (x - 1) * (x - 2) for x in degrees])))\n",
    "\n",
    "def statistics_triangle_count(A_in):\n",
    "    \"\"\"\n",
    "    Compute the triangle count of the input graph\n",
    "    Parameters\n",
    "    ----------\n",
    "    A_in: sparse matrix or np.array\n",
    "          The input adjacency matrix.\n",
    "    Returns\n",
    "    -------\n",
    "    Triangle count\n",
    "    \"\"\"\n",
    "\n",
    "    A_graph = nx.from_numpy_matrix(A_in)\n",
    "    triangles = nx.triangles(A_graph)\n",
    "    t = np.sum(list(triangles.values())) / 3\n",
    "    return int(t)\n",
    "\n",
    "\n",
    "def statistics_square_count(A_in):\n",
    "    \"\"\"\n",
    "    Compute the square count of the input graph\n",
    "    Parameters\n",
    "    ----------\n",
    "    A_in: sparse matrix or np.array\n",
    "          The input adjacency matrix.\n",
    "    Returns\n",
    "    -------\n",
    "    Square count\n",
    "    \"\"\"\n",
    "\n",
    "    A_igraph = igraph.Graph.Adjacency((A_in > 0).tolist()).as_undirected()\n",
    "    return int(np.sum(squares(A_igraph)) / 4)\n",
    "\n",
    "def statistics_gini(A_in):\n",
    "    \"\"\"\n",
    "    Compute the Gini coefficient of the degree distribution of the input graph\n",
    "    Parameters\n",
    "    ----------\n",
    "    A_in: sparse matrix or np.array\n",
    "          The input adjacency matrix.\n",
    "    Returns\n",
    "    -------\n",
    "    Gini coefficient\n",
    "    \"\"\"\n",
    "\n",
    "    n = A_in.shape[0]\n",
    "    degrees = A_in.sum(axis=0)\n",
    "    degrees_sorted = np.sort(degrees)\n",
    "    G = (2 * np.sum(np.array([i * degrees_sorted[i] for i in range(len(degrees))]))) / (n * np.sum(degrees)) - (\n",
    "                                                                                                               n + 1) / n\n",
    "    return float(G)\n",
    "\n",
    "\n",
    "def statistics_edge_distribution_entropy(A_in):\n",
    "    \"\"\"\n",
    "    Compute the relative edge distribution entropy of the input graph.\n",
    "    Parameters\n",
    "    ----------\n",
    "    A_in: sparse matrix or np.array\n",
    "          The input adjacency matrix.\n",
    "    Returns\n",
    "    -------\n",
    "    Rel. edge distribution entropy\n",
    "    \"\"\"\n",
    "\n",
    "    degrees = A_in.sum(axis=0)\n",
    "    m = 0.5 * np.sum(np.square(A_in))\n",
    "    n = A_in.shape[0]\n",
    "\n",
    "    H_er = 1 / np.log(n) * np.sum(-degrees / (2 * float(m)) * np.log((degrees+.0001) / (2 * float(m))))\n",
    "    return H_er\n",
    "\n",
    "def statistics_cluster_props(A, Z_obs):\n",
    "    def get_blocks(A_in, Z_obs, normalize=True):\n",
    "        block = Z_obs.T.dot(A_in.dot(Z_obs))\n",
    "        counts = np.sum(Z_obs, axis=0)\n",
    "        blocks_outer = counts[:,None].dot(counts[None,:])\n",
    "        if normalize:\n",
    "            blocks_outer = np.multiply(block, 1/blocks_outer)\n",
    "        return blocks_outer\n",
    "    \n",
    "    in_blocks = get_blocks(A, Z_obs)\n",
    "    diag_mean = np.multiply(in_blocks, np.eye(in_blocks.shape[0])).mean()\n",
    "    offdiag_mean = np.multiply(in_blocks, 1-np.eye(in_blocks.shape[0])).mean() \n",
    "    return diag_mean, offdiag_mean\n",
    "\n",
    "def statistics_compute_cpl(A):\n",
    "    \"\"\"Compute characteristic path length.\"\"\"\n",
    "    P = sp.csgraph.shortest_path(sp.csr_matrix(A))"
   ]
  },
  {
   "cell_type": "code",
   "execution_count": 46,
   "metadata": {},
   "outputs": [],
   "source": [
    "#A = A.A\n",
    "d_max, d_min, d_mean = statistics_degrees(A)\n",
    "\n",
    "# Degree statistics\n",
    "statistics['d_max'] = d_max\n",
    "statistics['d_min'] = d_min\n",
    "statistics['d'] = d_mean\n",
    "\n",
    "# largest connected component\n",
    "LCC = statistics_LCC(A)\n",
    "\n",
    "statistics['LCC'] = LCC.shape[0]\n",
    "# wedge count\n",
    "statistics['wedge_count'] = statistics_wedge_count(A)\n",
    "\n",
    "# claw count\n",
    "statistics['claw_count'] = statistics_claw_count(A)\n",
    "\n",
    "# triangle count\n",
    "statistics['triangle_count'] = statistics_triangle_count(A)\n",
    "\n",
    "# Square count\n",
    "statistics['square_count'] = statistics_square_count(A)\n",
    "\n",
    "# power law exponent\n",
    "# statistics['power_law_exp'] = statistics_power_law_alpha(A)\n",
    "\n",
    "# gini coefficient\n",
    "statistics['gini'] = statistics_gini(A)\n",
    "\n",
    "# Relative edge distribution entropy\n",
    "statistics['rel_edge_distr_entropy'] = statistics_edge_distribution_entropy(A)\n",
    "\n",
    "# Assortativity\n",
    "# statistics['assortativity'] = nx.degree_assortativity_coefficient(A_in)\n",
    "\n",
    "# Clustering coefficient\n",
    "statistics['clustering_coefficient'] = 3 * statistics['triangle_count'] / statistics['claw_count']\n",
    "\n",
    "# Number of connected components\n",
    "statistics['n_components'] = connected_components(A)[0]\n",
    "    \n",
    "#if Z_obs is not None:\n",
    "#    # inter- and intra-community density\n",
    "#    intra, inter = statistics_cluster_props(A, Z_obs)\n",
    "#    statistics['intra_community_density'] = intra\n",
    "#    statistics['inter_community_density'] = inter\n",
    "      \n",
    "statistics['cpl'] = statistics_compute_cpl(A)"
   ]
  },
  {
   "cell_type": "code",
   "execution_count": 47,
   "metadata": {},
   "outputs": [
    {
     "data": {
      "text/plain": [
       "{'d_max': 2711,\n",
       " 'd_min': 1,\n",
       " 'd': 8.861548556430446,\n",
       " 'LCC': 9144,\n",
       " 'wedge_count': 5924305.0,\n",
       " 'claw_count': 3536762685.0,\n",
       " 'triangle_count': 10864,\n",
       " 'square_count': 1369,\n",
       " 'gini': 0.5973788452458499,\n",
       " 'rel_edge_distr_entropy': 0.8978197572960855,\n",
       " 'clustering_coefficient': 9.215206928705764e-06,\n",
       " 'n_components': 1,\n",
       " 'cpl': None}"
      ]
     },
     "execution_count": 47,
     "metadata": {},
     "output_type": "execute_result"
    }
   ],
   "source": [
    "statistics"
   ]
  },
  {
   "cell_type": "code",
   "execution_count": 48,
   "metadata": {},
   "outputs": [],
   "source": [
    "statistics_compute_cpl(A)"
   ]
  },
  {
   "cell_type": "code",
   "execution_count": null,
   "metadata": {},
   "outputs": [],
   "source": []
  }
 ],
 "metadata": {
  "kernelspec": {
   "display_name": "Python 3",
   "language": "python",
   "name": "python3"
  },
  "language_info": {
   "codemirror_mode": {
    "name": "ipython",
    "version": 3
   },
   "file_extension": ".py",
   "mimetype": "text/x-python",
   "name": "python",
   "nbconvert_exporter": "python",
   "pygments_lexer": "ipython3",
   "version": "3.7.9"
  }
 },
 "nbformat": 4,
 "nbformat_minor": 4
}
