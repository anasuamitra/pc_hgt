{
 "cells": [
  {
   "cell_type": "code",
   "execution_count": 1,
   "metadata": {},
   "outputs": [],
   "source": [
    "from tqdm import tqdm\n",
    "import ast\n",
    "from sklearn.feature_extraction.text import TfidfVectorizer\n",
    "from scipy.sparse import csr_matrix, coo_matrix\n",
    "import pickle as pkl\n",
    "import csv\n",
    "import pandas as pd\n",
    "import numpy as np\n",
    "import os\n",
    "import random\n",
    "import scipy.io as sio\n",
    "import cufflinks as cf"
   ]
  },
  {
   "cell_type": "code",
   "execution_count": null,
   "metadata": {},
   "outputs": [],
   "source": [
    "bfs = pkl.load(open('{}.pkl'.format(\"train_bfs_10\"), \"rb\"))\n",
    "print(list(bfs.keys())[:10])\n",
    "bfs"
   ]
  },
  {
   "cell_type": "code",
   "execution_count": 20,
   "metadata": {},
   "outputs": [],
   "source": [
    "dfs1 = pkl.load(open('{}.pkl'.format(\"train_dfs_3\"), \"rb\"))\n",
    "dfs2 = pkl.load(open('{}.pkl'.format(\"val_dfs_3\"), \"rb\"))\n",
    "dfs3 = pkl.load(open('{}.pkl'.format(\"test_dfs_3\"), \"rb\"))\n",
    "#print(list(dfs.keys())[:10])\n",
    "dfs = dfs1 + dfs2 + dfs3"
   ]
  },
  {
   "cell_type": "code",
   "execution_count": 21,
   "metadata": {},
   "outputs": [],
   "source": [
    "path = dict()\n",
    "for k in dfs:\n",
    "    for v in k:\n",
    "        str1 = '-'.join(str(e) for e in v)\n",
    "        if str1 not in path:\n",
    "            path[str1] = 1\n",
    "        else:\n",
    "            path[str1] += 1"
   ]
  },
  {
   "cell_type": "code",
   "execution_count": 22,
   "metadata": {},
   "outputs": [
    {
     "data": {
      "text/plain": [
       "[('2', 2956),\n",
       " ('2-2', 1675),\n",
       " ('0', 1080),\n",
       " ('0-0', 585),\n",
       " ('8', 554),\n",
       " ('8-8', 187),\n",
       " ('4', 168),\n",
       " ('12', 105),\n",
       " ('3', 100),\n",
       " ('6', 95),\n",
       " ('6-6', 95),\n",
       " ('11', 72),\n",
       " ('7', 70),\n",
       " ('2-3', 64),\n",
       " ('3-2', 62),\n",
       " ('2-4', 51),\n",
       " ('4-2', 50),\n",
       " ('2-2-2', 50),\n",
       " ('5', 49),\n",
       " ('7-7', 45),\n",
       " ('2-8', 43),\n",
       " ('0-8', 42),\n",
       " ('4-4', 37),\n",
       " ('2-12', 31),\n",
       " ('2-5', 30),\n",
       " ('9', 29),\n",
       " ('2-6', 26),\n",
       " ('11-2', 20),\n",
       " ('8-2', 20),\n",
       " ('10', 16),\n",
       " ('0-2', 16),\n",
       " ('1', 16),\n",
       " ('12-2', 15),\n",
       " ('7-2', 14),\n",
       " ('12-8-8', 13),\n",
       " ('11-11-11', 11),\n",
       " ('2-11', 11),\n",
       " ('2-2-3', 11),\n",
       " ('8-6', 11),\n",
       " ('2-7', 10),\n",
       " ('8-9', 10),\n",
       " ('0-0-12', 9),\n",
       " ('6-2', 9),\n",
       " ('2-11-2', 8),\n",
       " ('2-2-11', 8),\n",
       " ('11-2-2', 8),\n",
       " ('1-1', 8),\n",
       " ('7-8', 7),\n",
       " ('2-12-2', 7),\n",
       " ('3-3', 7),\n",
       " ('5-2-2', 7),\n",
       " ('6-4', 7),\n",
       " ('4-12', 6),\n",
       " ('2-2-12', 6),\n",
       " ('2-0', 6),\n",
       " ('5-5', 6),\n",
       " ('12-12', 6),\n",
       " ('5-2', 6),\n",
       " ('1-0', 6),\n",
       " ('4-0-0', 6),\n",
       " ('2-0-0', 6),\n",
       " ('10-10', 6),\n",
       " ('3-2-2', 5),\n",
       " ('4-2-2', 5),\n",
       " ('0-11-0', 5),\n",
       " ('0-9-0', 5),\n",
       " ('11-11', 5),\n",
       " ('2-2-4', 5),\n",
       " ('8-12', 4),\n",
       " ('10-2', 4),\n",
       " ('0-12-0', 4),\n",
       " ('2-4-5', 4),\n",
       " ('4-8', 4),\n",
       " ('0-0-7', 4),\n",
       " ('0-0-2', 4),\n",
       " ('5-4-4', 4),\n",
       " ('5-12', 4),\n",
       " ('11-11-12', 4),\n",
       " ('4-4-11', 4),\n",
       " ('12-2-2', 3),\n",
       " ('4-6', 3),\n",
       " ('4-5', 3),\n",
       " ('3-0-0', 3),\n",
       " ('2-4-2', 3),\n",
       " ('0-1', 3),\n",
       " ('6-8', 3),\n",
       " ('9-8', 3),\n",
       " ('8-7', 3),\n",
       " ('8-0', 3),\n",
       " ('3-2-3', 2),\n",
       " ('4-4-4', 2),\n",
       " ('5-4', 2),\n",
       " ('5-0', 2),\n",
       " ('4-5-5', 2),\n",
       " ('2-3-4', 2),\n",
       " ('2-7-2', 2),\n",
       " ('7-2-2', 2),\n",
       " ('11-0-0', 2),\n",
       " ('0-2-0', 2),\n",
       " ('2-10', 2),\n",
       " ('10-12', 2),\n",
       " ('2-9', 2),\n",
       " ('2-4-4', 2),\n",
       " ('7-4', 2),\n",
       " ('2-3-2', 2),\n",
       " ('4-0', 2),\n",
       " ('6-7', 1),\n",
       " ('12-12-11', 1),\n",
       " ('0-11', 1),\n",
       " ('6-0', 1),\n",
       " ('12-4', 1),\n",
       " ('11-4', 1),\n",
       " ('9-8-8', 1),\n",
       " ('2-2-5', 1),\n",
       " ('11-4-4', 1),\n",
       " ('12-8', 1),\n",
       " ('2-3-3', 1),\n",
       " ('0-4-0', 1),\n",
       " ('2-5-2', 1),\n",
       " ('4-2-4', 1),\n",
       " ('12-0', 1),\n",
       " ('12-6', 1),\n",
       " ('0-4', 1),\n",
       " ('9-9', 1),\n",
       " ('8-12-8', 1),\n",
       " ('8-9-8', 1),\n",
       " ('3-0', 1),\n",
       " ('7-7-7', 1),\n",
       " ('7-6', 1),\n",
       " ('2-2-6', 1),\n",
       " ('2-2-7', 1),\n",
       " ('6-7-6', 1),\n",
       " ('3-3-3', 1),\n",
       " ('3-3-2', 1),\n",
       " ('0-3', 1),\n",
       " ('4-4-5', 1),\n",
       " ('6-12', 1),\n",
       " ('0-0-3', 1),\n",
       " ('0-12', 1),\n",
       " ('4-5-4', 1),\n",
       " ('5-6', 1),\n",
       " ('5-2-5', 1),\n",
       " ('0-10', 1),\n",
       " ('8-4', 1)]"
      ]
     },
     "execution_count": 22,
     "metadata": {},
     "output_type": "execute_result"
    }
   ],
   "source": [
    "sorted(path.items(), key=lambda x: x[1], reverse=True)"
   ]
  },
  {
   "cell_type": "code",
   "execution_count": 19,
   "metadata": {},
   "outputs": [
    {
     "data": {
      "text/plain": [
       "144"
      ]
     },
     "execution_count": 19,
     "metadata": {},
     "output_type": "execute_result"
    }
   ],
   "source": [
    "len(list(path.keys()))"
   ]
  },
  {
   "cell_type": "code",
   "execution_count": 23,
   "metadata": {},
   "outputs": [
    {
     "data": {
      "text/plain": [
       "8866"
      ]
     },
     "execution_count": 23,
     "metadata": {},
     "output_type": "execute_result"
    }
   ],
   "source": [
    "sum(list(path.values()))"
   ]
  },
  {
   "cell_type": "code",
   "execution_count": null,
   "metadata": {},
   "outputs": [],
   "source": []
  }
 ],
 "metadata": {
  "kernelspec": {
   "display_name": "Python 3",
   "language": "python",
   "name": "python3"
  },
  "language_info": {
   "codemirror_mode": {
    "name": "ipython",
    "version": 3
   },
   "file_extension": ".py",
   "mimetype": "text/x-python",
   "name": "python",
   "nbconvert_exporter": "python",
   "pygments_lexer": "ipython3",
   "version": "3.7.9"
  }
 },
 "nbformat": 4,
 "nbformat_minor": 4
}
